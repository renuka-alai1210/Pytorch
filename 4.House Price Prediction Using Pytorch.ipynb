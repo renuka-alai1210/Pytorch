{
 "cells": [
  {
   "cell_type": "markdown",
   "metadata": {},
   "source": [
    "###  Kaggle Advance House Price Prediction Using Pytorch- Tabular Dataset\n",
    "\n"
   ]
  },
  {
   "cell_type": "code",
   "execution_count": 1,
   "metadata": {},
   "outputs": [],
   "source": [
    "import pandas as pd"
   ]
  },
  {
   "cell_type": "code",
   "execution_count": 2,
   "metadata": {},
   "outputs": [],
   "source": [
    "df=pd.read_csv('houseprice.csv',usecols=[\"SalePrice\", \"MSSubClass\", \"MSZoning\", \"LotFrontage\", \"LotArea\",\n",
    "                                         \"Street\", \"YearBuilt\", \"LotShape\", \"1stFlrSF\", \"2ndFlrSF\"]).dropna()"
   ]
  },
  {
   "cell_type": "code",
   "execution_count": 3,
   "metadata": {},
   "outputs": [
    {
     "data": {
      "text/plain": [
       "(1201, 10)"
      ]
     },
     "execution_count": 3,
     "metadata": {},
     "output_type": "execute_result"
    }
   ],
   "source": [
    "df.shape"
   ]
  },
  {
   "cell_type": "code",
   "execution_count": 4,
   "metadata": {},
   "outputs": [
    {
     "data": {
      "text/html": [
       "<div>\n",
       "<style scoped>\n",
       "    .dataframe tbody tr th:only-of-type {\n",
       "        vertical-align: middle;\n",
       "    }\n",
       "\n",
       "    .dataframe tbody tr th {\n",
       "        vertical-align: top;\n",
       "    }\n",
       "\n",
       "    .dataframe thead th {\n",
       "        text-align: right;\n",
       "    }\n",
       "</style>\n",
       "<table border=\"1\" class=\"dataframe\">\n",
       "  <thead>\n",
       "    <tr style=\"text-align: right;\">\n",
       "      <th></th>\n",
       "      <th>MSSubClass</th>\n",
       "      <th>MSZoning</th>\n",
       "      <th>LotFrontage</th>\n",
       "      <th>LotArea</th>\n",
       "      <th>Street</th>\n",
       "      <th>LotShape</th>\n",
       "      <th>YearBuilt</th>\n",
       "      <th>1stFlrSF</th>\n",
       "      <th>2ndFlrSF</th>\n",
       "      <th>SalePrice</th>\n",
       "    </tr>\n",
       "  </thead>\n",
       "  <tbody>\n",
       "    <tr>\n",
       "      <th>0</th>\n",
       "      <td>60</td>\n",
       "      <td>RL</td>\n",
       "      <td>65.0</td>\n",
       "      <td>8450</td>\n",
       "      <td>Pave</td>\n",
       "      <td>Reg</td>\n",
       "      <td>2003</td>\n",
       "      <td>856</td>\n",
       "      <td>854</td>\n",
       "      <td>208500</td>\n",
       "    </tr>\n",
       "    <tr>\n",
       "      <th>1</th>\n",
       "      <td>20</td>\n",
       "      <td>RL</td>\n",
       "      <td>80.0</td>\n",
       "      <td>9600</td>\n",
       "      <td>Pave</td>\n",
       "      <td>Reg</td>\n",
       "      <td>1976</td>\n",
       "      <td>1262</td>\n",
       "      <td>0</td>\n",
       "      <td>181500</td>\n",
       "    </tr>\n",
       "    <tr>\n",
       "      <th>2</th>\n",
       "      <td>60</td>\n",
       "      <td>RL</td>\n",
       "      <td>68.0</td>\n",
       "      <td>11250</td>\n",
       "      <td>Pave</td>\n",
       "      <td>IR1</td>\n",
       "      <td>2001</td>\n",
       "      <td>920</td>\n",
       "      <td>866</td>\n",
       "      <td>223500</td>\n",
       "    </tr>\n",
       "    <tr>\n",
       "      <th>3</th>\n",
       "      <td>70</td>\n",
       "      <td>RL</td>\n",
       "      <td>60.0</td>\n",
       "      <td>9550</td>\n",
       "      <td>Pave</td>\n",
       "      <td>IR1</td>\n",
       "      <td>1915</td>\n",
       "      <td>961</td>\n",
       "      <td>756</td>\n",
       "      <td>140000</td>\n",
       "    </tr>\n",
       "    <tr>\n",
       "      <th>4</th>\n",
       "      <td>60</td>\n",
       "      <td>RL</td>\n",
       "      <td>84.0</td>\n",
       "      <td>14260</td>\n",
       "      <td>Pave</td>\n",
       "      <td>IR1</td>\n",
       "      <td>2000</td>\n",
       "      <td>1145</td>\n",
       "      <td>1053</td>\n",
       "      <td>250000</td>\n",
       "    </tr>\n",
       "  </tbody>\n",
       "</table>\n",
       "</div>"
      ],
      "text/plain": [
       "   MSSubClass MSZoning  LotFrontage  LotArea Street LotShape  YearBuilt  \\\n",
       "0          60       RL         65.0     8450   Pave      Reg       2003   \n",
       "1          20       RL         80.0     9600   Pave      Reg       1976   \n",
       "2          60       RL         68.0    11250   Pave      IR1       2001   \n",
       "3          70       RL         60.0     9550   Pave      IR1       1915   \n",
       "4          60       RL         84.0    14260   Pave      IR1       2000   \n",
       "\n",
       "   1stFlrSF  2ndFlrSF  SalePrice  \n",
       "0       856       854     208500  \n",
       "1      1262         0     181500  \n",
       "2       920       866     223500  \n",
       "3       961       756     140000  \n",
       "4      1145      1053     250000  "
      ]
     },
     "execution_count": 4,
     "metadata": {},
     "output_type": "execute_result"
    }
   ],
   "source": [
    "df.head()"
   ]
  },
  {
   "cell_type": "code",
   "execution_count": 5,
   "metadata": {},
   "outputs": [
    {
     "name": "stdout",
     "output_type": "stream",
     "text": [
      "<class 'pandas.core.frame.DataFrame'>\n",
      "Int64Index: 1201 entries, 0 to 1459\n",
      "Data columns (total 10 columns):\n",
      " #   Column       Non-Null Count  Dtype  \n",
      "---  ------       --------------  -----  \n",
      " 0   MSSubClass   1201 non-null   int64  \n",
      " 1   MSZoning     1201 non-null   object \n",
      " 2   LotFrontage  1201 non-null   float64\n",
      " 3   LotArea      1201 non-null   int64  \n",
      " 4   Street       1201 non-null   object \n",
      " 5   LotShape     1201 non-null   object \n",
      " 6   YearBuilt    1201 non-null   int64  \n",
      " 7   1stFlrSF     1201 non-null   int64  \n",
      " 8   2ndFlrSF     1201 non-null   int64  \n",
      " 9   SalePrice    1201 non-null   int64  \n",
      "dtypes: float64(1), int64(6), object(3)\n",
      "memory usage: 103.2+ KB\n"
     ]
    }
   ],
   "source": [
    "df.info()"
   ]
  },
  {
   "cell_type": "code",
   "execution_count": 6,
   "metadata": {},
   "outputs": [
    {
     "name": "stdout",
     "output_type": "stream",
     "text": [
      "Column name MSSubClass and unique values are 15\n",
      "Column name MSZoning and unique values are 5\n",
      "Column name LotFrontage and unique values are 110\n",
      "Column name LotArea and unique values are 869\n",
      "Column name Street and unique values are 2\n",
      "Column name LotShape and unique values are 4\n",
      "Column name YearBuilt and unique values are 112\n",
      "Column name 1stFlrSF and unique values are 678\n",
      "Column name 2ndFlrSF and unique values are 368\n",
      "Column name SalePrice and unique values are 597\n"
     ]
    }
   ],
   "source": [
    "for i in df.columns:\n",
    "    print(\"Column name {} and unique values are {}\".format(i,len(df[i].unique())))"
   ]
  },
  {
   "cell_type": "code",
   "execution_count": 7,
   "metadata": {},
   "outputs": [
    {
     "data": {
      "text/plain": [
       "2022"
      ]
     },
     "execution_count": 7,
     "metadata": {},
     "output_type": "execute_result"
    }
   ],
   "source": [
    "import datetime\n",
    "datetime.datetime.now().year"
   ]
  },
  {
   "cell_type": "code",
   "execution_count": 8,
   "metadata": {},
   "outputs": [],
   "source": [
    "df['Total Years']=datetime.datetime.now().year-df['YearBuilt']"
   ]
  },
  {
   "cell_type": "code",
   "execution_count": 9,
   "metadata": {},
   "outputs": [],
   "source": [
    "df.drop(\"YearBuilt\",axis=1,inplace=True)"
   ]
  },
  {
   "cell_type": "code",
   "execution_count": 10,
   "metadata": {},
   "outputs": [
    {
     "data": {
      "text/plain": [
       "Index(['MSSubClass', 'MSZoning', 'LotFrontage', 'LotArea', 'Street',\n",
       "       'LotShape', '1stFlrSF', '2ndFlrSF', 'SalePrice', 'Total Years'],\n",
       "      dtype='object')"
      ]
     },
     "execution_count": 10,
     "metadata": {},
     "output_type": "execute_result"
    }
   ],
   "source": [
    "df.columns"
   ]
  },
  {
   "cell_type": "code",
   "execution_count": 11,
   "metadata": {},
   "outputs": [],
   "source": [
    "cat_features=[\"MSSubClass\", \"MSZoning\", \"Street\", \"LotShape\"]\n",
    "out_feature=\"SalePrice\""
   ]
  },
  {
   "cell_type": "code",
   "execution_count": 12,
   "metadata": {},
   "outputs": [
    {
     "data": {
      "text/plain": [
       "array([5, 0, 5, ..., 6, 0, 0])"
      ]
     },
     "execution_count": 12,
     "metadata": {},
     "output_type": "execute_result"
    }
   ],
   "source": [
    "from sklearn.preprocessing import LabelEncoder\n",
    "lbl_encoders={}\n",
    "lbl_encoders[\"MSSubClass\"]=LabelEncoder()\n",
    "lbl_encoders[\"MSSubClass\"].fit_transform(df[\"MSSubClass\"])"
   ]
  },
  {
   "cell_type": "code",
   "execution_count": 13,
   "metadata": {},
   "outputs": [
    {
     "data": {
      "text/plain": [
       "{'MSSubClass': LabelEncoder()}"
      ]
     },
     "execution_count": 13,
     "metadata": {},
     "output_type": "execute_result"
    }
   ],
   "source": [
    "lbl_encoders"
   ]
  },
  {
   "cell_type": "code",
   "execution_count": 14,
   "metadata": {},
   "outputs": [],
   "source": [
    "from sklearn.preprocessing import LabelEncoder\n",
    "lbl_encoders={}\n",
    "for feature in cat_features:\n",
    "    lbl_encoders[feature]=LabelEncoder()\n",
    "    df[feature]=lbl_encoders[feature].fit_transform(df[feature])"
   ]
  },
  {
   "cell_type": "code",
   "execution_count": 15,
   "metadata": {},
   "outputs": [
    {
     "data": {
      "text/html": [
       "<div>\n",
       "<style scoped>\n",
       "    .dataframe tbody tr th:only-of-type {\n",
       "        vertical-align: middle;\n",
       "    }\n",
       "\n",
       "    .dataframe tbody tr th {\n",
       "        vertical-align: top;\n",
       "    }\n",
       "\n",
       "    .dataframe thead th {\n",
       "        text-align: right;\n",
       "    }\n",
       "</style>\n",
       "<table border=\"1\" class=\"dataframe\">\n",
       "  <thead>\n",
       "    <tr style=\"text-align: right;\">\n",
       "      <th></th>\n",
       "      <th>MSSubClass</th>\n",
       "      <th>MSZoning</th>\n",
       "      <th>LotFrontage</th>\n",
       "      <th>LotArea</th>\n",
       "      <th>Street</th>\n",
       "      <th>LotShape</th>\n",
       "      <th>1stFlrSF</th>\n",
       "      <th>2ndFlrSF</th>\n",
       "      <th>SalePrice</th>\n",
       "      <th>Total Years</th>\n",
       "    </tr>\n",
       "  </thead>\n",
       "  <tbody>\n",
       "    <tr>\n",
       "      <th>0</th>\n",
       "      <td>5</td>\n",
       "      <td>3</td>\n",
       "      <td>65.0</td>\n",
       "      <td>8450</td>\n",
       "      <td>1</td>\n",
       "      <td>3</td>\n",
       "      <td>856</td>\n",
       "      <td>854</td>\n",
       "      <td>208500</td>\n",
       "      <td>19</td>\n",
       "    </tr>\n",
       "    <tr>\n",
       "      <th>1</th>\n",
       "      <td>0</td>\n",
       "      <td>3</td>\n",
       "      <td>80.0</td>\n",
       "      <td>9600</td>\n",
       "      <td>1</td>\n",
       "      <td>3</td>\n",
       "      <td>1262</td>\n",
       "      <td>0</td>\n",
       "      <td>181500</td>\n",
       "      <td>46</td>\n",
       "    </tr>\n",
       "    <tr>\n",
       "      <th>2</th>\n",
       "      <td>5</td>\n",
       "      <td>3</td>\n",
       "      <td>68.0</td>\n",
       "      <td>11250</td>\n",
       "      <td>1</td>\n",
       "      <td>0</td>\n",
       "      <td>920</td>\n",
       "      <td>866</td>\n",
       "      <td>223500</td>\n",
       "      <td>21</td>\n",
       "    </tr>\n",
       "    <tr>\n",
       "      <th>3</th>\n",
       "      <td>6</td>\n",
       "      <td>3</td>\n",
       "      <td>60.0</td>\n",
       "      <td>9550</td>\n",
       "      <td>1</td>\n",
       "      <td>0</td>\n",
       "      <td>961</td>\n",
       "      <td>756</td>\n",
       "      <td>140000</td>\n",
       "      <td>107</td>\n",
       "    </tr>\n",
       "    <tr>\n",
       "      <th>4</th>\n",
       "      <td>5</td>\n",
       "      <td>3</td>\n",
       "      <td>84.0</td>\n",
       "      <td>14260</td>\n",
       "      <td>1</td>\n",
       "      <td>0</td>\n",
       "      <td>1145</td>\n",
       "      <td>1053</td>\n",
       "      <td>250000</td>\n",
       "      <td>22</td>\n",
       "    </tr>\n",
       "    <tr>\n",
       "      <th>...</th>\n",
       "      <td>...</td>\n",
       "      <td>...</td>\n",
       "      <td>...</td>\n",
       "      <td>...</td>\n",
       "      <td>...</td>\n",
       "      <td>...</td>\n",
       "      <td>...</td>\n",
       "      <td>...</td>\n",
       "      <td>...</td>\n",
       "      <td>...</td>\n",
       "    </tr>\n",
       "    <tr>\n",
       "      <th>1455</th>\n",
       "      <td>5</td>\n",
       "      <td>3</td>\n",
       "      <td>62.0</td>\n",
       "      <td>7917</td>\n",
       "      <td>1</td>\n",
       "      <td>3</td>\n",
       "      <td>953</td>\n",
       "      <td>694</td>\n",
       "      <td>175000</td>\n",
       "      <td>23</td>\n",
       "    </tr>\n",
       "    <tr>\n",
       "      <th>1456</th>\n",
       "      <td>0</td>\n",
       "      <td>3</td>\n",
       "      <td>85.0</td>\n",
       "      <td>13175</td>\n",
       "      <td>1</td>\n",
       "      <td>3</td>\n",
       "      <td>2073</td>\n",
       "      <td>0</td>\n",
       "      <td>210000</td>\n",
       "      <td>44</td>\n",
       "    </tr>\n",
       "    <tr>\n",
       "      <th>1457</th>\n",
       "      <td>6</td>\n",
       "      <td>3</td>\n",
       "      <td>66.0</td>\n",
       "      <td>9042</td>\n",
       "      <td>1</td>\n",
       "      <td>3</td>\n",
       "      <td>1188</td>\n",
       "      <td>1152</td>\n",
       "      <td>266500</td>\n",
       "      <td>81</td>\n",
       "    </tr>\n",
       "    <tr>\n",
       "      <th>1458</th>\n",
       "      <td>0</td>\n",
       "      <td>3</td>\n",
       "      <td>68.0</td>\n",
       "      <td>9717</td>\n",
       "      <td>1</td>\n",
       "      <td>3</td>\n",
       "      <td>1078</td>\n",
       "      <td>0</td>\n",
       "      <td>142125</td>\n",
       "      <td>72</td>\n",
       "    </tr>\n",
       "    <tr>\n",
       "      <th>1459</th>\n",
       "      <td>0</td>\n",
       "      <td>3</td>\n",
       "      <td>75.0</td>\n",
       "      <td>9937</td>\n",
       "      <td>1</td>\n",
       "      <td>3</td>\n",
       "      <td>1256</td>\n",
       "      <td>0</td>\n",
       "      <td>147500</td>\n",
       "      <td>57</td>\n",
       "    </tr>\n",
       "  </tbody>\n",
       "</table>\n",
       "<p>1201 rows × 10 columns</p>\n",
       "</div>"
      ],
      "text/plain": [
       "      MSSubClass  MSZoning  LotFrontage  LotArea  Street  LotShape  1stFlrSF  \\\n",
       "0              5         3         65.0     8450       1         3       856   \n",
       "1              0         3         80.0     9600       1         3      1262   \n",
       "2              5         3         68.0    11250       1         0       920   \n",
       "3              6         3         60.0     9550       1         0       961   \n",
       "4              5         3         84.0    14260       1         0      1145   \n",
       "...          ...       ...          ...      ...     ...       ...       ...   \n",
       "1455           5         3         62.0     7917       1         3       953   \n",
       "1456           0         3         85.0    13175       1         3      2073   \n",
       "1457           6         3         66.0     9042       1         3      1188   \n",
       "1458           0         3         68.0     9717       1         3      1078   \n",
       "1459           0         3         75.0     9937       1         3      1256   \n",
       "\n",
       "      2ndFlrSF  SalePrice  Total Years  \n",
       "0          854     208500           19  \n",
       "1            0     181500           46  \n",
       "2          866     223500           21  \n",
       "3          756     140000          107  \n",
       "4         1053     250000           22  \n",
       "...        ...        ...          ...  \n",
       "1455       694     175000           23  \n",
       "1456         0     210000           44  \n",
       "1457      1152     266500           81  \n",
       "1458         0     142125           72  \n",
       "1459         0     147500           57  \n",
       "\n",
       "[1201 rows x 10 columns]"
      ]
     },
     "execution_count": 15,
     "metadata": {},
     "output_type": "execute_result"
    }
   ],
   "source": [
    "df"
   ]
  },
  {
   "cell_type": "code",
   "execution_count": 18,
   "metadata": {},
   "outputs": [
    {
     "data": {
      "text/plain": [
       "array([[5, 3, 1, 3],\n",
       "       [0, 3, 1, 3],\n",
       "       [5, 3, 1, 0],\n",
       "       ...,\n",
       "       [6, 3, 1, 3],\n",
       "       [0, 3, 1, 3],\n",
       "       [0, 3, 1, 3]])"
      ]
     },
     "execution_count": 18,
     "metadata": {},
     "output_type": "execute_result"
    }
   ],
   "source": [
    "### Stacking and Converting Into Tensors\n",
    "import numpy as np\n",
    "cat_features=np.stack([df['MSSubClass'],df['MSZoning'],df['Street'],df['LotShape']],1)\n",
    "cat_features\n",
    "                       "
   ]
  },
  {
   "cell_type": "code",
   "execution_count": 19,
   "metadata": {},
   "outputs": [
    {
     "data": {
      "text/plain": [
       "tensor([[5, 3, 1, 3],\n",
       "        [0, 3, 1, 3],\n",
       "        [5, 3, 1, 0],\n",
       "        ...,\n",
       "        [6, 3, 1, 3],\n",
       "        [0, 3, 1, 3],\n",
       "        [0, 3, 1, 3]])"
      ]
     },
     "execution_count": 19,
     "metadata": {},
     "output_type": "execute_result"
    }
   ],
   "source": [
    "### Convert numpy to Tensors\n",
    "import torch\n",
    "cat_features=torch.tensor(cat_features,dtype=torch.int64)\n",
    "cat_features"
   ]
  },
  {
   "cell_type": "code",
   "execution_count": 20,
   "metadata": {},
   "outputs": [],
   "source": [
    "#### create continuous variable\n",
    "cont_features=[]\n",
    "for i in df.columns:\n",
    "    if i in [\"MSSubClass\", \"MSZoning\", \"Street\", \"LotShape\",\"SalePrice\"]:\n",
    "        pass\n",
    "    else:\n",
    "        cont_features.append(i)\n"
   ]
  },
  {
   "cell_type": "code",
   "execution_count": 21,
   "metadata": {},
   "outputs": [
    {
     "data": {
      "text/plain": [
       "['LotFrontage', 'LotArea', '1stFlrSF', '2ndFlrSF', 'Total Years']"
      ]
     },
     "execution_count": 21,
     "metadata": {},
     "output_type": "execute_result"
    }
   ],
   "source": [
    "cont_features"
   ]
  },
  {
   "cell_type": "code",
   "execution_count": 22,
   "metadata": {},
   "outputs": [
    {
     "data": {
      "text/plain": [
       "tensor([[   65.,  8450.,   856.,   854.,    19.],\n",
       "        [   80.,  9600.,  1262.,     0.,    46.],\n",
       "        [   68., 11250.,   920.,   866.,    21.],\n",
       "        ...,\n",
       "        [   66.,  9042.,  1188.,  1152.,    81.],\n",
       "        [   68.,  9717.,  1078.,     0.,    72.],\n",
       "        [   75.,  9937.,  1256.,     0.,    57.]])"
      ]
     },
     "execution_count": 22,
     "metadata": {},
     "output_type": "execute_result"
    }
   ],
   "source": [
    "### Stacking continuous variable to a tensor\n",
    "cont_values=np.stack([df[i].values for i in cont_features],axis=1)\n",
    "cont_values=torch.tensor(cont_values,dtype=torch.float)\n",
    "cont_values"
   ]
  },
  {
   "cell_type": "code",
   "execution_count": 23,
   "metadata": {},
   "outputs": [
    {
     "data": {
      "text/plain": [
       "torch.float32"
      ]
     },
     "execution_count": 23,
     "metadata": {},
     "output_type": "execute_result"
    }
   ],
   "source": [
    "cont_values.dtype"
   ]
  },
  {
   "cell_type": "code",
   "execution_count": 24,
   "metadata": {},
   "outputs": [
    {
     "data": {
      "text/plain": [
       "tensor([[208500.],\n",
       "        [181500.],\n",
       "        [223500.],\n",
       "        ...,\n",
       "        [266500.],\n",
       "        [142125.],\n",
       "        [147500.]])"
      ]
     },
     "execution_count": 24,
     "metadata": {},
     "output_type": "execute_result"
    }
   ],
   "source": [
    "### Dependent Feature \n",
    "y=torch.tensor(df['SalePrice'].values,dtype=torch.float).reshape(-1,1)\n",
    "y"
   ]
  },
  {
   "cell_type": "code",
   "execution_count": 25,
   "metadata": {},
   "outputs": [
    {
     "name": "stdout",
     "output_type": "stream",
     "text": [
      "<class 'pandas.core.frame.DataFrame'>\n",
      "Int64Index: 1201 entries, 0 to 1459\n",
      "Data columns (total 10 columns):\n",
      " #   Column       Non-Null Count  Dtype  \n",
      "---  ------       --------------  -----  \n",
      " 0   MSSubClass   1201 non-null   int64  \n",
      " 1   MSZoning     1201 non-null   int64  \n",
      " 2   LotFrontage  1201 non-null   float64\n",
      " 3   LotArea      1201 non-null   int64  \n",
      " 4   Street       1201 non-null   int64  \n",
      " 5   LotShape     1201 non-null   int64  \n",
      " 6   1stFlrSF     1201 non-null   int64  \n",
      " 7   2ndFlrSF     1201 non-null   int64  \n",
      " 8   SalePrice    1201 non-null   int64  \n",
      " 9   Total Years  1201 non-null   int64  \n",
      "dtypes: float64(1), int64(9)\n",
      "memory usage: 103.2 KB\n"
     ]
    }
   ],
   "source": [
    "df.info()"
   ]
  },
  {
   "cell_type": "code",
   "execution_count": 26,
   "metadata": {},
   "outputs": [
    {
     "data": {
      "text/plain": [
       "(torch.Size([1201, 4]), torch.Size([1201, 5]), torch.Size([1201, 1]))"
      ]
     },
     "execution_count": 26,
     "metadata": {},
     "output_type": "execute_result"
    }
   ],
   "source": [
    "cat_features.shape,cont_values.shape,y.shape"
   ]
  },
  {
   "cell_type": "code",
   "execution_count": 27,
   "metadata": {},
   "outputs": [
    {
     "data": {
      "text/plain": [
       "15"
      ]
     },
     "execution_count": 27,
     "metadata": {},
     "output_type": "execute_result"
    }
   ],
   "source": [
    "len(df['MSSubClass'].unique())"
   ]
  },
  {
   "cell_type": "code",
   "execution_count": 28,
   "metadata": {},
   "outputs": [],
   "source": [
    "#### Embedding Size For Categorical columns\n",
    "cat_dims=[len(df[col].unique()) for col in [\"MSSubClass\", \"MSZoning\", \"Street\", \"LotShape\"]]"
   ]
  },
  {
   "cell_type": "code",
   "execution_count": 29,
   "metadata": {},
   "outputs": [
    {
     "data": {
      "text/plain": [
       "[15, 5, 2, 4]"
      ]
     },
     "execution_count": 29,
     "metadata": {},
     "output_type": "execute_result"
    }
   ],
   "source": [
    "cat_dims"
   ]
  },
  {
   "cell_type": "code",
   "execution_count": 30,
   "metadata": {},
   "outputs": [],
   "source": [
    "embedding_dim= [(x, min(50, (x + 1) // 2)) for x in cat_dims]"
   ]
  },
  {
   "cell_type": "code",
   "execution_count": 31,
   "metadata": {},
   "outputs": [
    {
     "data": {
      "text/plain": [
       "[(15, 8), (5, 3), (2, 1), (4, 2)]"
      ]
     },
     "execution_count": 31,
     "metadata": {},
     "output_type": "execute_result"
    }
   ],
   "source": [
    "embedding_dim"
   ]
  },
  {
   "cell_type": "code",
   "execution_count": null,
   "metadata": {},
   "outputs": [],
   "source": []
  },
  {
   "cell_type": "code",
   "execution_count": 32,
   "metadata": {},
   "outputs": [
    {
     "data": {
      "text/plain": [
       "ModuleList(\n",
       "  (0): Embedding(15, 8)\n",
       "  (1): Embedding(5, 3)\n",
       "  (2): Embedding(2, 1)\n",
       "  (3): Embedding(4, 2)\n",
       ")"
      ]
     },
     "execution_count": 32,
     "metadata": {},
     "output_type": "execute_result"
    }
   ],
   "source": [
    "import torch\n",
    "import torch.nn as nn\n",
    "import torch.nn.functional as F\n",
    "embed_representation=nn.ModuleList([nn.Embedding(inp,out) for inp,out in embedding_dim])\n",
    "embed_representation"
   ]
  },
  {
   "cell_type": "code",
   "execution_count": 33,
   "metadata": {},
   "outputs": [
    {
     "data": {
      "text/plain": [
       "tensor([[5, 3, 1, 3],\n",
       "        [0, 3, 1, 3],\n",
       "        [5, 3, 1, 0],\n",
       "        ...,\n",
       "        [6, 3, 1, 3],\n",
       "        [0, 3, 1, 3],\n",
       "        [0, 3, 1, 3]])"
      ]
     },
     "execution_count": 33,
     "metadata": {},
     "output_type": "execute_result"
    }
   ],
   "source": [
    "cat_features"
   ]
  },
  {
   "cell_type": "code",
   "execution_count": 34,
   "metadata": {},
   "outputs": [
    {
     "data": {
      "text/plain": [
       "tensor([[5, 3, 1, 3],\n",
       "        [0, 3, 1, 3],\n",
       "        [5, 3, 1, 0],\n",
       "        [6, 3, 1, 0]])"
      ]
     },
     "execution_count": 34,
     "metadata": {},
     "output_type": "execute_result"
    }
   ],
   "source": [
    "cat_featuresz=cat_features[:4]\n",
    "cat_featuresz"
   ]
  },
  {
   "cell_type": "code",
   "execution_count": 35,
   "metadata": {},
   "outputs": [],
   "source": [
    "pd.set_option('display.max_rows', 500)\n",
    "embedding_val=[]\n",
    "for i,e in enumerate(embed_representation):\n",
    "    embedding_val.append(e(cat_features[:,i]))"
   ]
  },
  {
   "cell_type": "code",
   "execution_count": 36,
   "metadata": {},
   "outputs": [
    {
     "data": {
      "text/plain": [
       "[tensor([[ 2.3122, -0.3031,  0.6281,  ..., -0.1639,  0.1445,  2.0404],\n",
       "         [ 1.8903,  0.2308, -0.5159,  ...,  1.8257,  0.9829,  0.4964],\n",
       "         [ 2.3122, -0.3031,  0.6281,  ..., -0.1639,  0.1445,  2.0404],\n",
       "         ...,\n",
       "         [ 0.6607,  0.5001, -1.0914,  ...,  0.1678, -0.7947, -0.4219],\n",
       "         [ 1.8903,  0.2308, -0.5159,  ...,  1.8257,  0.9829,  0.4964],\n",
       "         [ 1.8903,  0.2308, -0.5159,  ...,  1.8257,  0.9829,  0.4964]],\n",
       "        grad_fn=<EmbeddingBackward0>),\n",
       " tensor([[-1.0727, -1.1182,  1.6369],\n",
       "         [-1.0727, -1.1182,  1.6369],\n",
       "         [-1.0727, -1.1182,  1.6369],\n",
       "         ...,\n",
       "         [-1.0727, -1.1182,  1.6369],\n",
       "         [-1.0727, -1.1182,  1.6369],\n",
       "         [-1.0727, -1.1182,  1.6369]], grad_fn=<EmbeddingBackward0>),\n",
       " tensor([[-0.5313],\n",
       "         [-0.5313],\n",
       "         [-0.5313],\n",
       "         ...,\n",
       "         [-0.5313],\n",
       "         [-0.5313],\n",
       "         [-0.5313]], grad_fn=<EmbeddingBackward0>),\n",
       " tensor([[-0.3765,  0.1310],\n",
       "         [-0.3765,  0.1310],\n",
       "         [-0.0998, -0.0608],\n",
       "         ...,\n",
       "         [-0.3765,  0.1310],\n",
       "         [-0.3765,  0.1310],\n",
       "         [-0.3765,  0.1310]], grad_fn=<EmbeddingBackward0>)]"
      ]
     },
     "execution_count": 36,
     "metadata": {},
     "output_type": "execute_result"
    }
   ],
   "source": [
    "embedding_val"
   ]
  },
  {
   "cell_type": "code",
   "execution_count": 37,
   "metadata": {},
   "outputs": [
    {
     "data": {
      "text/plain": [
       "tensor([[ 2.3122, -0.3031,  0.6281,  ..., -0.5313, -0.3765,  0.1310],\n",
       "        [ 1.8903,  0.2308, -0.5159,  ..., -0.5313, -0.3765,  0.1310],\n",
       "        [ 2.3122, -0.3031,  0.6281,  ..., -0.5313, -0.0998, -0.0608],\n",
       "        ...,\n",
       "        [ 0.6607,  0.5001, -1.0914,  ..., -0.5313, -0.3765,  0.1310],\n",
       "        [ 1.8903,  0.2308, -0.5159,  ..., -0.5313, -0.3765,  0.1310],\n",
       "        [ 1.8903,  0.2308, -0.5159,  ..., -0.5313, -0.3765,  0.1310]],\n",
       "       grad_fn=<CatBackward0>)"
      ]
     },
     "execution_count": 37,
     "metadata": {},
     "output_type": "execute_result"
    }
   ],
   "source": [
    "z = torch.cat(embedding_val, 1)\n",
    "z"
   ]
  },
  {
   "cell_type": "code",
   "execution_count": 38,
   "metadata": {},
   "outputs": [],
   "source": [
    "#### Implement dropupout\n",
    "droput=nn.Dropout(.4)\n"
   ]
  },
  {
   "cell_type": "code",
   "execution_count": 39,
   "metadata": {},
   "outputs": [
    {
     "data": {
      "text/plain": [
       "tensor([[ 3.8537, -0.5052,  0.0000,  ..., -0.8855, -0.6275,  0.0000],\n",
       "        [ 3.1505,  0.3847, -0.8598,  ..., -0.0000, -0.0000,  0.0000],\n",
       "        [ 3.8537, -0.5052,  0.0000,  ..., -0.8855, -0.0000, -0.1013],\n",
       "        ...,\n",
       "        [ 1.1012,  0.0000, -1.8190,  ..., -0.8855, -0.6275,  0.2184],\n",
       "        [ 3.1505,  0.3847, -0.8598,  ..., -0.0000, -0.6275,  0.0000],\n",
       "        [ 3.1505,  0.0000, -0.8598,  ..., -0.0000, -0.6275,  0.0000]],\n",
       "       grad_fn=<MulBackward0>)"
      ]
     },
     "execution_count": 39,
     "metadata": {},
     "output_type": "execute_result"
    }
   ],
   "source": [
    "final_embed=droput(z)\n",
    "final_embed\n"
   ]
  },
  {
   "cell_type": "code",
   "execution_count": 40,
   "metadata": {},
   "outputs": [],
   "source": [
    "##### Create a Feed Forward Neural Network\n",
    "import torch\n",
    "import torch.nn as nn\n",
    "import torch.nn.functional as F\n",
    "class FeedForwardNN(nn.Module):\n",
    "\n",
    "    def __init__(self, embedding_dim, n_cont, out_sz, layers, p=0.5):\n",
    "        super().__init__()\n",
    "        self.embeds = nn.ModuleList([nn.Embedding(inp,out) for inp,out in embedding_dim])\n",
    "        self.emb_drop = nn.Dropout(p)\n",
    "        self.bn_cont = nn.BatchNorm1d(n_cont)\n",
    "        \n",
    "        layerlist = []\n",
    "        n_emb = sum((out for inp,out in embedding_dim))\n",
    "        n_in = n_emb + n_cont\n",
    "        \n",
    "        for i in layers:\n",
    "            layerlist.append(nn.Linear(n_in,i)) \n",
    "            layerlist.append(nn.ReLU(inplace=True))\n",
    "            layerlist.append(nn.BatchNorm1d(i))\n",
    "            layerlist.append(nn.Dropout(p))\n",
    "            n_in = i\n",
    "        layerlist.append(nn.Linear(layers[-1],out_sz))\n",
    "            \n",
    "        self.layers = nn.Sequential(*layerlist)\n",
    "    \n",
    "    def forward(self, x_cat, x_cont):\n",
    "        embeddings = []\n",
    "        for i,e in enumerate(self.embeds):\n",
    "            embeddings.append(e(x_cat[:,i]))\n",
    "        x = torch.cat(embeddings, 1)\n",
    "        x = self.emb_drop(x)\n",
    "        \n",
    "        x_cont = self.bn_cont(x_cont)\n",
    "        x = torch.cat([x, x_cont], 1)\n",
    "        x = self.layers(x)\n",
    "        return x"
   ]
  },
  {
   "cell_type": "code",
   "execution_count": 41,
   "metadata": {},
   "outputs": [
    {
     "data": {
      "text/plain": [
       "5"
      ]
     },
     "execution_count": 41,
     "metadata": {},
     "output_type": "execute_result"
    }
   ],
   "source": [
    "len(cont_features)"
   ]
  },
  {
   "cell_type": "code",
   "execution_count": 42,
   "metadata": {},
   "outputs": [],
   "source": [
    "torch.manual_seed(100)\n",
    "model=FeedForwardNN(embedding_dim,len(cont_features),1,[100,50],p=0.4)"
   ]
  },
  {
   "cell_type": "code",
   "execution_count": null,
   "metadata": {},
   "outputs": [],
   "source": []
  },
  {
   "cell_type": "code",
   "execution_count": 43,
   "metadata": {},
   "outputs": [
    {
     "data": {
      "text/plain": [
       "FeedForwardNN(\n",
       "  (embeds): ModuleList(\n",
       "    (0): Embedding(15, 8)\n",
       "    (1): Embedding(5, 3)\n",
       "    (2): Embedding(2, 1)\n",
       "    (3): Embedding(4, 2)\n",
       "  )\n",
       "  (emb_drop): Dropout(p=0.4, inplace=False)\n",
       "  (bn_cont): BatchNorm1d(5, eps=1e-05, momentum=0.1, affine=True, track_running_stats=True)\n",
       "  (layers): Sequential(\n",
       "    (0): Linear(in_features=19, out_features=100, bias=True)\n",
       "    (1): ReLU(inplace=True)\n",
       "    (2): BatchNorm1d(100, eps=1e-05, momentum=0.1, affine=True, track_running_stats=True)\n",
       "    (3): Dropout(p=0.4, inplace=False)\n",
       "    (4): Linear(in_features=100, out_features=50, bias=True)\n",
       "    (5): ReLU(inplace=True)\n",
       "    (6): BatchNorm1d(50, eps=1e-05, momentum=0.1, affine=True, track_running_stats=True)\n",
       "    (7): Dropout(p=0.4, inplace=False)\n",
       "    (8): Linear(in_features=50, out_features=1, bias=True)\n",
       "  )\n",
       ")"
      ]
     },
     "execution_count": 43,
     "metadata": {},
     "output_type": "execute_result"
    }
   ],
   "source": [
    "model"
   ]
  },
  {
   "cell_type": "markdown",
   "metadata": {},
   "source": [
    "#### Define Loss And Optimizer"
   ]
  },
  {
   "cell_type": "code",
   "execution_count": 44,
   "metadata": {},
   "outputs": [],
   "source": [
    "loss_function=nn.MSELoss()\n",
    "optimizer=torch.optim.Adam(model.parameters(),lr=0.01)"
   ]
  },
  {
   "cell_type": "code",
   "execution_count": 45,
   "metadata": {},
   "outputs": [
    {
     "data": {
      "text/plain": [
       "(1201, 10)"
      ]
     },
     "execution_count": 45,
     "metadata": {},
     "output_type": "execute_result"
    }
   ],
   "source": [
    "df.shape"
   ]
  },
  {
   "cell_type": "code",
   "execution_count": 46,
   "metadata": {},
   "outputs": [
    {
     "data": {
      "text/plain": [
       "tensor([[   65.,  8450.,   856.,   854.,    19.],\n",
       "        [   80.,  9600.,  1262.,     0.,    46.],\n",
       "        [   68., 11250.,   920.,   866.,    21.],\n",
       "        ...,\n",
       "        [   66.,  9042.,  1188.,  1152.,    81.],\n",
       "        [   68.,  9717.,  1078.,     0.,    72.],\n",
       "        [   75.,  9937.,  1256.,     0.,    57.]])"
      ]
     },
     "execution_count": 46,
     "metadata": {},
     "output_type": "execute_result"
    }
   ],
   "source": [
    "cont_values"
   ]
  },
  {
   "cell_type": "code",
   "execution_count": 47,
   "metadata": {},
   "outputs": [
    {
     "data": {
      "text/plain": [
       "torch.Size([1201, 5])"
      ]
     },
     "execution_count": 47,
     "metadata": {},
     "output_type": "execute_result"
    }
   ],
   "source": [
    "cont_values.shape"
   ]
  },
  {
   "cell_type": "code",
   "execution_count": 48,
   "metadata": {},
   "outputs": [],
   "source": [
    "batch_size=1200\n",
    "test_size=int(batch_size*0.15)\n",
    "train_categorical=cat_features[:batch_size-test_size]\n",
    "test_categorical=cat_features[batch_size-test_size:batch_size]\n",
    "train_cont=cont_values[:batch_size-test_size]\n",
    "test_cont=cont_values[batch_size-test_size:batch_size]\n",
    "y_train=y[:batch_size-test_size]\n",
    "y_test=y[batch_size-test_size:batch_size]"
   ]
  },
  {
   "cell_type": "code",
   "execution_count": 49,
   "metadata": {},
   "outputs": [
    {
     "data": {
      "text/plain": [
       "(1020, 180, 1020, 180, 1020, 180)"
      ]
     },
     "execution_count": 49,
     "metadata": {},
     "output_type": "execute_result"
    }
   ],
   "source": [
    "len(train_categorical),len(test_categorical),len(train_cont),len(test_cont),len(y_train),len(y_test)"
   ]
  },
  {
   "cell_type": "code",
   "execution_count": 50,
   "metadata": {},
   "outputs": [
    {
     "name": "stdout",
     "output_type": "stream",
     "text": [
      "Epoch number: 1 and the loss : 200496.75\n",
      "Epoch number: 11 and the loss : 200493.46875\n",
      "Epoch number: 21 and the loss : 200489.140625\n",
      "Epoch number: 31 and the loss : 200482.640625\n",
      "Epoch number: 41 and the loss : 200473.25\n",
      "Epoch number: 51 and the loss : 200461.375\n",
      "Epoch number: 61 and the loss : 200446.421875\n",
      "Epoch number: 71 and the loss : 200429.375\n",
      "Epoch number: 81 and the loss : 200407.953125\n",
      "Epoch number: 91 and the loss : 200383.453125\n",
      "Epoch number: 101 and the loss : 200355.296875\n",
      "Epoch number: 111 and the loss : 200322.390625\n",
      "Epoch number: 121 and the loss : 200291.40625\n",
      "Epoch number: 131 and the loss : 200252.265625\n",
      "Epoch number: 141 and the loss : 200206.109375\n",
      "Epoch number: 151 and the loss : 200162.859375\n",
      "Epoch number: 161 and the loss : 200112.265625\n",
      "Epoch number: 171 and the loss : 200058.859375\n",
      "Epoch number: 181 and the loss : 200006.03125\n",
      "Epoch number: 191 and the loss : 199947.046875\n",
      "Epoch number: 201 and the loss : 199881.703125\n",
      "Epoch number: 211 and the loss : 199815.65625\n",
      "Epoch number: 221 and the loss : 199737.671875\n",
      "Epoch number: 231 and the loss : 199669.140625\n",
      "Epoch number: 241 and the loss : 199589.40625\n",
      "Epoch number: 251 and the loss : 199506.421875\n",
      "Epoch number: 261 and the loss : 199410.703125\n",
      "Epoch number: 271 and the loss : 199326.0\n",
      "Epoch number: 281 and the loss : 199243.875\n",
      "Epoch number: 291 and the loss : 199138.65625\n",
      "Epoch number: 301 and the loss : 199029.28125\n",
      "Epoch number: 311 and the loss : 198931.71875\n",
      "Epoch number: 321 and the loss : 198847.4375\n",
      "Epoch number: 331 and the loss : 198694.25\n",
      "Epoch number: 341 and the loss : 198602.765625\n",
      "Epoch number: 351 and the loss : 198489.421875\n",
      "Epoch number: 361 and the loss : 198385.8125\n",
      "Epoch number: 371 and the loss : 198241.9375\n",
      "Epoch number: 381 and the loss : 198103.84375\n",
      "Epoch number: 391 and the loss : 198011.71875\n",
      "Epoch number: 401 and the loss : 197873.1875\n",
      "Epoch number: 411 and the loss : 197727.671875\n",
      "Epoch number: 421 and the loss : 197594.515625\n",
      "Epoch number: 431 and the loss : 197419.8125\n",
      "Epoch number: 441 and the loss : 197286.53125\n",
      "Epoch number: 451 and the loss : 197180.171875\n",
      "Epoch number: 461 and the loss : 196964.328125\n",
      "Epoch number: 471 and the loss : 196884.59375\n",
      "Epoch number: 481 and the loss : 196708.25\n",
      "Epoch number: 491 and the loss : 196505.703125\n",
      "Epoch number: 501 and the loss : 196438.265625\n",
      "Epoch number: 511 and the loss : 196207.0\n",
      "Epoch number: 521 and the loss : 196043.078125\n",
      "Epoch number: 531 and the loss : 195876.5625\n",
      "Epoch number: 541 and the loss : 195662.859375\n",
      "Epoch number: 551 and the loss : 195459.453125\n",
      "Epoch number: 561 and the loss : 195293.46875\n",
      "Epoch number: 571 and the loss : 195071.203125\n",
      "Epoch number: 581 and the loss : 194841.84375\n",
      "Epoch number: 591 and the loss : 194694.328125\n",
      "Epoch number: 601 and the loss : 194525.296875\n",
      "Epoch number: 611 and the loss : 194278.09375\n",
      "Epoch number: 621 and the loss : 194109.921875\n",
      "Epoch number: 631 and the loss : 193831.75\n",
      "Epoch number: 641 and the loss : 193685.546875\n",
      "Epoch number: 651 and the loss : 193487.640625\n",
      "Epoch number: 661 and the loss : 193218.40625\n",
      "Epoch number: 671 and the loss : 193071.375\n",
      "Epoch number: 681 and the loss : 192773.359375\n",
      "Epoch number: 691 and the loss : 192497.5625\n",
      "Epoch number: 701 and the loss : 192314.8125\n",
      "Epoch number: 711 and the loss : 192209.953125\n",
      "Epoch number: 721 and the loss : 191965.25\n",
      "Epoch number: 731 and the loss : 191633.328125\n",
      "Epoch number: 741 and the loss : 191436.1875\n",
      "Epoch number: 751 and the loss : 191197.828125\n",
      "Epoch number: 761 and the loss : 190974.265625\n",
      "Epoch number: 771 and the loss : 190719.640625\n",
      "Epoch number: 781 and the loss : 190477.046875\n",
      "Epoch number: 791 and the loss : 190280.5625\n",
      "Epoch number: 801 and the loss : 189874.265625\n",
      "Epoch number: 811 and the loss : 189755.4375\n",
      "Epoch number: 821 and the loss : 189657.890625\n",
      "Epoch number: 831 and the loss : 189288.96875\n",
      "Epoch number: 841 and the loss : 188936.15625\n",
      "Epoch number: 851 and the loss : 188850.90625\n",
      "Epoch number: 861 and the loss : 188397.078125\n",
      "Epoch number: 871 and the loss : 188183.21875\n",
      "Epoch number: 881 and the loss : 187905.421875\n",
      "Epoch number: 891 and the loss : 187476.15625\n",
      "Epoch number: 901 and the loss : 187450.875\n",
      "Epoch number: 911 and the loss : 187251.984375\n",
      "Epoch number: 921 and the loss : 186798.6875\n",
      "Epoch number: 931 and the loss : 186378.75\n",
      "Epoch number: 941 and the loss : 186133.34375\n",
      "Epoch number: 951 and the loss : 185958.984375\n",
      "Epoch number: 961 and the loss : 185528.90625\n",
      "Epoch number: 971 and the loss : 185295.5\n",
      "Epoch number: 981 and the loss : 185083.46875\n",
      "Epoch number: 991 and the loss : 184823.4375\n",
      "Epoch number: 1001 and the loss : 184320.109375\n",
      "Epoch number: 1011 and the loss : 184003.46875\n",
      "Epoch number: 1021 and the loss : 183779.609375\n",
      "Epoch number: 1031 and the loss : 183392.484375\n",
      "Epoch number: 1041 and the loss : 183221.921875\n",
      "Epoch number: 1051 and the loss : 182895.28125\n",
      "Epoch number: 1061 and the loss : 182552.4375\n",
      "Epoch number: 1071 and the loss : 182306.609375\n",
      "Epoch number: 1081 and the loss : 182141.890625\n",
      "Epoch number: 1091 and the loss : 181631.453125\n",
      "Epoch number: 1101 and the loss : 181323.40625\n",
      "Epoch number: 1111 and the loss : 180922.234375\n",
      "Epoch number: 1121 and the loss : 180493.96875\n",
      "Epoch number: 1131 and the loss : 180422.734375\n",
      "Epoch number: 1141 and the loss : 179942.40625\n",
      "Epoch number: 1151 and the loss : 179521.78125\n",
      "Epoch number: 1161 and the loss : 179438.53125\n",
      "Epoch number: 1171 and the loss : 178972.234375\n",
      "Epoch number: 1181 and the loss : 178637.75\n",
      "Epoch number: 1191 and the loss : 178148.140625\n",
      "Epoch number: 1201 and the loss : 178102.65625\n",
      "Epoch number: 1211 and the loss : 177488.78125\n",
      "Epoch number: 1221 and the loss : 177482.8125\n",
      "Epoch number: 1231 and the loss : 176593.78125\n",
      "Epoch number: 1241 and the loss : 176350.875\n",
      "Epoch number: 1251 and the loss : 175570.546875\n",
      "Epoch number: 1261 and the loss : 175579.375\n",
      "Epoch number: 1271 and the loss : 175435.03125\n",
      "Epoch number: 1281 and the loss : 174934.578125\n",
      "Epoch number: 1291 and the loss : 174514.8125\n",
      "Epoch number: 1301 and the loss : 174344.75\n",
      "Epoch number: 1311 and the loss : 173707.671875\n",
      "Epoch number: 1321 and the loss : 173139.875\n",
      "Epoch number: 1331 and the loss : 173420.3125\n",
      "Epoch number: 1341 and the loss : 172684.390625\n",
      "Epoch number: 1351 and the loss : 172268.0\n",
      "Epoch number: 1361 and the loss : 172029.34375\n",
      "Epoch number: 1371 and the loss : 171859.875\n",
      "Epoch number: 1381 and the loss : 171303.421875\n",
      "Epoch number: 1391 and the loss : 170381.984375\n",
      "Epoch number: 1401 and the loss : 170527.703125\n",
      "Epoch number: 1411 and the loss : 169707.921875\n",
      "Epoch number: 1421 and the loss : 169923.03125\n",
      "Epoch number: 1431 and the loss : 169496.21875\n",
      "Epoch number: 1441 and the loss : 168746.875\n",
      "Epoch number: 1451 and the loss : 168651.453125\n",
      "Epoch number: 1461 and the loss : 168005.125\n",
      "Epoch number: 1471 and the loss : 167635.46875\n",
      "Epoch number: 1481 and the loss : 167360.0625\n",
      "Epoch number: 1491 and the loss : 166598.953125\n",
      "Epoch number: 1501 and the loss : 166346.71875\n",
      "Epoch number: 1511 and the loss : 165572.59375\n",
      "Epoch number: 1521 and the loss : 165887.21875\n",
      "Epoch number: 1531 and the loss : 165360.046875\n",
      "Epoch number: 1541 and the loss : 164599.75\n",
      "Epoch number: 1551 and the loss : 164527.0\n",
      "Epoch number: 1561 and the loss : 163796.78125\n",
      "Epoch number: 1571 and the loss : 163485.296875\n",
      "Epoch number: 1581 and the loss : 163118.140625\n",
      "Epoch number: 1591 and the loss : 162986.375\n",
      "Epoch number: 1601 and the loss : 162500.984375\n",
      "Epoch number: 1611 and the loss : 161738.1875\n",
      "Epoch number: 1621 and the loss : 160834.828125\n",
      "Epoch number: 1631 and the loss : 160874.9375\n",
      "Epoch number: 1641 and the loss : 160728.953125\n",
      "Epoch number: 1651 and the loss : 160174.6875\n",
      "Epoch number: 1661 and the loss : 160211.375\n",
      "Epoch number: 1671 and the loss : 159182.078125\n",
      "Epoch number: 1681 and the loss : 158403.859375\n",
      "Epoch number: 1691 and the loss : 158293.625\n",
      "Epoch number: 1701 and the loss : 157611.28125\n",
      "Epoch number: 1711 and the loss : 157380.640625\n",
      "Epoch number: 1721 and the loss : 157224.75\n",
      "Epoch number: 1731 and the loss : 156740.578125\n",
      "Epoch number: 1741 and the loss : 156361.359375\n",
      "Epoch number: 1751 and the loss : 156197.953125\n",
      "Epoch number: 1761 and the loss : 155220.609375\n",
      "Epoch number: 1771 and the loss : 154320.859375\n",
      "Epoch number: 1781 and the loss : 154147.59375\n"
     ]
    },
    {
     "name": "stdout",
     "output_type": "stream",
     "text": [
      "Epoch number: 1791 and the loss : 153826.921875\n",
      "Epoch number: 1801 and the loss : 153116.875\n",
      "Epoch number: 1811 and the loss : 152888.8125\n",
      "Epoch number: 1821 and the loss : 152303.953125\n",
      "Epoch number: 1831 and the loss : 152413.359375\n",
      "Epoch number: 1841 and the loss : 151681.515625\n",
      "Epoch number: 1851 and the loss : 150629.453125\n",
      "Epoch number: 1861 and the loss : 150742.546875\n",
      "Epoch number: 1871 and the loss : 150172.765625\n",
      "Epoch number: 1881 and the loss : 149325.828125\n",
      "Epoch number: 1891 and the loss : 148456.84375\n",
      "Epoch number: 1901 and the loss : 148742.921875\n",
      "Epoch number: 1911 and the loss : 148922.5\n",
      "Epoch number: 1921 and the loss : 147896.0625\n",
      "Epoch number: 1931 and the loss : 147348.34375\n",
      "Epoch number: 1941 and the loss : 146632.75\n",
      "Epoch number: 1951 and the loss : 146512.90625\n",
      "Epoch number: 1961 and the loss : 146021.953125\n",
      "Epoch number: 1971 and the loss : 145616.265625\n",
      "Epoch number: 1981 and the loss : 145777.71875\n",
      "Epoch number: 1991 and the loss : 144474.46875\n",
      "Epoch number: 2001 and the loss : 144202.390625\n",
      "Epoch number: 2011 and the loss : 143031.359375\n",
      "Epoch number: 2021 and the loss : 142910.984375\n",
      "Epoch number: 2031 and the loss : 142543.640625\n",
      "Epoch number: 2041 and the loss : 142058.5\n",
      "Epoch number: 2051 and the loss : 141200.140625\n",
      "Epoch number: 2061 and the loss : 141020.046875\n",
      "Epoch number: 2071 and the loss : 141103.03125\n",
      "Epoch number: 2081 and the loss : 140423.96875\n",
      "Epoch number: 2091 and the loss : 139790.28125\n",
      "Epoch number: 2101 and the loss : 139444.890625\n",
      "Epoch number: 2111 and the loss : 138740.5\n",
      "Epoch number: 2121 and the loss : 137810.125\n",
      "Epoch number: 2131 and the loss : 137878.09375\n",
      "Epoch number: 2141 and the loss : 137260.03125\n",
      "Epoch number: 2151 and the loss : 136706.09375\n",
      "Epoch number: 2161 and the loss : 136545.90625\n",
      "Epoch number: 2171 and the loss : 136599.875\n",
      "Epoch number: 2181 and the loss : 136695.984375\n",
      "Epoch number: 2191 and the loss : 134932.84375\n",
      "Epoch number: 2201 and the loss : 134274.875\n",
      "Epoch number: 2211 and the loss : 133809.03125\n",
      "Epoch number: 2221 and the loss : 132905.1875\n",
      "Epoch number: 2231 and the loss : 132775.65625\n",
      "Epoch number: 2241 and the loss : 131528.390625\n",
      "Epoch number: 2251 and the loss : 131689.78125\n",
      "Epoch number: 2261 and the loss : 130235.8515625\n",
      "Epoch number: 2271 and the loss : 130332.6640625\n",
      "Epoch number: 2281 and the loss : 130303.0625\n",
      "Epoch number: 2291 and the loss : 129424.8671875\n",
      "Epoch number: 2301 and the loss : 128939.03125\n",
      "Epoch number: 2311 and the loss : 128953.0546875\n",
      "Epoch number: 2321 and the loss : 128408.328125\n",
      "Epoch number: 2331 and the loss : 128675.3984375\n",
      "Epoch number: 2341 and the loss : 127606.5\n",
      "Epoch number: 2351 and the loss : 126359.765625\n",
      "Epoch number: 2361 and the loss : 126336.796875\n",
      "Epoch number: 2371 and the loss : 125722.1875\n",
      "Epoch number: 2381 and the loss : 124924.90625\n",
      "Epoch number: 2391 and the loss : 124865.078125\n",
      "Epoch number: 2401 and the loss : 124420.21875\n",
      "Epoch number: 2411 and the loss : 123391.9765625\n",
      "Epoch number: 2421 and the loss : 123193.6484375\n",
      "Epoch number: 2431 and the loss : 122497.6484375\n",
      "Epoch number: 2441 and the loss : 122445.9296875\n",
      "Epoch number: 2451 and the loss : 121356.484375\n",
      "Epoch number: 2461 and the loss : 120498.171875\n",
      "Epoch number: 2471 and the loss : 120727.84375\n",
      "Epoch number: 2481 and the loss : 120516.8203125\n",
      "Epoch number: 2491 and the loss : 120685.171875\n",
      "Epoch number: 2501 and the loss : 119622.34375\n",
      "Epoch number: 2511 and the loss : 118628.375\n",
      "Epoch number: 2521 and the loss : 117627.53125\n",
      "Epoch number: 2531 and the loss : 118324.2421875\n",
      "Epoch number: 2541 and the loss : 117401.125\n",
      "Epoch number: 2551 and the loss : 116994.8046875\n",
      "Epoch number: 2561 and the loss : 116497.0390625\n",
      "Epoch number: 2571 and the loss : 115832.5859375\n",
      "Epoch number: 2581 and the loss : 116884.9375\n",
      "Epoch number: 2591 and the loss : 115626.0859375\n",
      "Epoch number: 2601 and the loss : 114501.2890625\n",
      "Epoch number: 2611 and the loss : 114433.0546875\n",
      "Epoch number: 2621 and the loss : 114682.296875\n",
      "Epoch number: 2631 and the loss : 112605.8125\n",
      "Epoch number: 2641 and the loss : 112354.8359375\n",
      "Epoch number: 2651 and the loss : 112271.7421875\n",
      "Epoch number: 2661 and the loss : 111483.2265625\n",
      "Epoch number: 2671 and the loss : 110995.1015625\n",
      "Epoch number: 2681 and the loss : 110265.5859375\n",
      "Epoch number: 2691 and the loss : 109389.734375\n",
      "Epoch number: 2701 and the loss : 109805.3984375\n",
      "Epoch number: 2711 and the loss : 109176.2421875\n",
      "Epoch number: 2721 and the loss : 108823.2109375\n",
      "Epoch number: 2731 and the loss : 108394.453125\n",
      "Epoch number: 2741 and the loss : 107314.796875\n",
      "Epoch number: 2751 and the loss : 105965.7109375\n",
      "Epoch number: 2761 and the loss : 106330.625\n",
      "Epoch number: 2771 and the loss : 106647.9140625\n",
      "Epoch number: 2781 and the loss : 105346.859375\n",
      "Epoch number: 2791 and the loss : 104488.53125\n",
      "Epoch number: 2801 and the loss : 103786.421875\n",
      "Epoch number: 2811 and the loss : 104005.875\n",
      "Epoch number: 2821 and the loss : 102778.9453125\n",
      "Epoch number: 2831 and the loss : 102887.1953125\n",
      "Epoch number: 2841 and the loss : 102451.140625\n",
      "Epoch number: 2851 and the loss : 101600.7890625\n",
      "Epoch number: 2861 and the loss : 101730.8359375\n",
      "Epoch number: 2871 and the loss : 100663.8203125\n",
      "Epoch number: 2881 and the loss : 101011.3984375\n",
      "Epoch number: 2891 and the loss : 100822.390625\n",
      "Epoch number: 2901 and the loss : 98611.90625\n",
      "Epoch number: 2911 and the loss : 98291.7578125\n",
      "Epoch number: 2921 and the loss : 98250.59375\n",
      "Epoch number: 2931 and the loss : 98833.0\n",
      "Epoch number: 2941 and the loss : 97057.921875\n",
      "Epoch number: 2951 and the loss : 97222.875\n",
      "Epoch number: 2961 and the loss : 96371.6015625\n",
      "Epoch number: 2971 and the loss : 95533.1015625\n",
      "Epoch number: 2981 and the loss : 95235.15625\n",
      "Epoch number: 2991 and the loss : 94638.9296875\n",
      "Epoch number: 3001 and the loss : 93893.609375\n",
      "Epoch number: 3011 and the loss : 94076.65625\n",
      "Epoch number: 3021 and the loss : 92971.1875\n",
      "Epoch number: 3031 and the loss : 92754.03125\n",
      "Epoch number: 3041 and the loss : 92781.6484375\n",
      "Epoch number: 3051 and the loss : 91561.9609375\n",
      "Epoch number: 3061 and the loss : 91883.328125\n",
      "Epoch number: 3071 and the loss : 91079.0859375\n",
      "Epoch number: 3081 and the loss : 90815.0078125\n",
      "Epoch number: 3091 and the loss : 89775.0\n",
      "Epoch number: 3101 and the loss : 89315.9375\n",
      "Epoch number: 3111 and the loss : 89634.5078125\n",
      "Epoch number: 3121 and the loss : 89660.859375\n",
      "Epoch number: 3131 and the loss : 88157.8046875\n",
      "Epoch number: 3141 and the loss : 87625.4296875\n",
      "Epoch number: 3151 and the loss : 87654.890625\n",
      "Epoch number: 3161 and the loss : 86363.5\n",
      "Epoch number: 3171 and the loss : 86781.0234375\n",
      "Epoch number: 3181 and the loss : 86226.125\n",
      "Epoch number: 3191 and the loss : 84923.7734375\n",
      "Epoch number: 3201 and the loss : 84746.78125\n",
      "Epoch number: 3211 and the loss : 84374.6015625\n",
      "Epoch number: 3221 and the loss : 83510.8828125\n",
      "Epoch number: 3231 and the loss : 84708.015625\n",
      "Epoch number: 3241 and the loss : 82714.9140625\n",
      "Epoch number: 3251 and the loss : 81429.71875\n",
      "Epoch number: 3261 and the loss : 81379.6640625\n",
      "Epoch number: 3271 and the loss : 81954.1015625\n",
      "Epoch number: 3281 and the loss : 81117.03125\n",
      "Epoch number: 3291 and the loss : 80908.8828125\n",
      "Epoch number: 3301 and the loss : 79666.453125\n",
      "Epoch number: 3311 and the loss : 79308.84375\n",
      "Epoch number: 3321 and the loss : 80771.3359375\n",
      "Epoch number: 3331 and the loss : 78905.8828125\n",
      "Epoch number: 3341 and the loss : 78017.09375\n",
      "Epoch number: 3351 and the loss : 77281.203125\n",
      "Epoch number: 3361 and the loss : 77295.3125\n",
      "Epoch number: 3371 and the loss : 76508.78125\n",
      "Epoch number: 3381 and the loss : 76789.640625\n",
      "Epoch number: 3391 and the loss : 74594.6328125\n",
      "Epoch number: 3401 and the loss : 74783.0859375\n",
      "Epoch number: 3411 and the loss : 74401.4453125\n",
      "Epoch number: 3421 and the loss : 73498.2109375\n",
      "Epoch number: 3431 and the loss : 73677.65625\n",
      "Epoch number: 3441 and the loss : 72698.046875\n",
      "Epoch number: 3451 and the loss : 72998.25\n",
      "Epoch number: 3461 and the loss : 72706.171875\n",
      "Epoch number: 3471 and the loss : 71000.6484375\n",
      "Epoch number: 3481 and the loss : 71020.34375\n",
      "Epoch number: 3491 and the loss : 70769.3359375\n",
      "Epoch number: 3501 and the loss : 68649.375\n",
      "Epoch number: 3511 and the loss : 69049.53125\n",
      "Epoch number: 3521 and the loss : 68875.9609375\n",
      "Epoch number: 3531 and the loss : 68950.1953125\n",
      "Epoch number: 3541 and the loss : 68295.2265625\n",
      "Epoch number: 3551 and the loss : 70015.140625\n",
      "Epoch number: 3561 and the loss : 66315.90625\n",
      "Epoch number: 3571 and the loss : 66959.1171875\n",
      "Epoch number: 3581 and the loss : 67734.578125\n"
     ]
    },
    {
     "name": "stdout",
     "output_type": "stream",
     "text": [
      "Epoch number: 3591 and the loss : 66946.359375\n",
      "Epoch number: 3601 and the loss : 65016.85546875\n",
      "Epoch number: 3611 and the loss : 64907.109375\n",
      "Epoch number: 3621 and the loss : 65078.375\n",
      "Epoch number: 3631 and the loss : 63112.18359375\n",
      "Epoch number: 3641 and the loss : 64863.203125\n",
      "Epoch number: 3651 and the loss : 64437.5234375\n",
      "Epoch number: 3661 and the loss : 63513.71484375\n",
      "Epoch number: 3671 and the loss : 61252.98046875\n",
      "Epoch number: 3681 and the loss : 61328.75\n",
      "Epoch number: 3691 and the loss : 60990.9375\n",
      "Epoch number: 3701 and the loss : 60461.921875\n",
      "Epoch number: 3711 and the loss : 62131.46875\n",
      "Epoch number: 3721 and the loss : 60191.2890625\n",
      "Epoch number: 3731 and the loss : 58301.78515625\n",
      "Epoch number: 3741 and the loss : 58623.3671875\n",
      "Epoch number: 3751 and the loss : 59010.57421875\n",
      "Epoch number: 3761 and the loss : 59356.48046875\n",
      "Epoch number: 3771 and the loss : 57552.765625\n",
      "Epoch number: 3781 and the loss : 56337.375\n",
      "Epoch number: 3791 and the loss : 56726.0078125\n",
      "Epoch number: 3801 and the loss : 56240.640625\n",
      "Epoch number: 3811 and the loss : 55663.37109375\n",
      "Epoch number: 3821 and the loss : 57281.9296875\n",
      "Epoch number: 3831 and the loss : 54740.2109375\n",
      "Epoch number: 3841 and the loss : 52863.2734375\n",
      "Epoch number: 3851 and the loss : 54356.1484375\n",
      "Epoch number: 3861 and the loss : 54651.1640625\n",
      "Epoch number: 3871 and the loss : 52385.1328125\n",
      "Epoch number: 3881 and the loss : 51795.89453125\n",
      "Epoch number: 3891 and the loss : 50743.81640625\n",
      "Epoch number: 3901 and the loss : 53434.29296875\n",
      "Epoch number: 3911 and the loss : 52067.25390625\n",
      "Epoch number: 3921 and the loss : 51186.71484375\n",
      "Epoch number: 3931 and the loss : 50512.01953125\n",
      "Epoch number: 3941 and the loss : 49897.70703125\n",
      "Epoch number: 3951 and the loss : 49036.28125\n",
      "Epoch number: 3961 and the loss : 50989.1328125\n",
      "Epoch number: 3971 and the loss : 48889.97265625\n",
      "Epoch number: 3981 and the loss : 49451.8515625\n",
      "Epoch number: 3991 and the loss : 49274.3671875\n",
      "Epoch number: 4001 and the loss : 48400.6953125\n",
      "Epoch number: 4011 and the loss : 46020.23828125\n",
      "Epoch number: 4021 and the loss : 49254.56640625\n",
      "Epoch number: 4031 and the loss : 46031.2578125\n",
      "Epoch number: 4041 and the loss : 46441.4453125\n",
      "Epoch number: 4051 and the loss : 47942.80859375\n",
      "Epoch number: 4061 and the loss : 44919.6953125\n",
      "Epoch number: 4071 and the loss : 45983.953125\n",
      "Epoch number: 4081 and the loss : 47791.078125\n",
      "Epoch number: 4091 and the loss : 45170.7109375\n",
      "Epoch number: 4101 and the loss : 43661.12109375\n",
      "Epoch number: 4111 and the loss : 44597.1328125\n",
      "Epoch number: 4121 and the loss : 44196.24609375\n",
      "Epoch number: 4131 and the loss : 47307.00390625\n",
      "Epoch number: 4141 and the loss : 44831.515625\n",
      "Epoch number: 4151 and the loss : 43950.61328125\n",
      "Epoch number: 4161 and the loss : 44000.8203125\n",
      "Epoch number: 4171 and the loss : 42306.6875\n",
      "Epoch number: 4181 and the loss : 42079.734375\n",
      "Epoch number: 4191 and the loss : 41871.62109375\n",
      "Epoch number: 4201 and the loss : 41931.65625\n",
      "Epoch number: 4211 and the loss : 41404.51171875\n",
      "Epoch number: 4221 and the loss : 40395.9375\n",
      "Epoch number: 4231 and the loss : 41304.9765625\n",
      "Epoch number: 4241 and the loss : 40308.6796875\n",
      "Epoch number: 4251 and the loss : 40790.6796875\n",
      "Epoch number: 4261 and the loss : 40800.80078125\n",
      "Epoch number: 4271 and the loss : 40938.68359375\n",
      "Epoch number: 4281 and the loss : 44802.015625\n",
      "Epoch number: 4291 and the loss : 39710.82421875\n",
      "Epoch number: 4301 and the loss : 39847.35546875\n",
      "Epoch number: 4311 and the loss : 39425.87890625\n",
      "Epoch number: 4321 and the loss : 39582.890625\n",
      "Epoch number: 4331 and the loss : 39081.453125\n",
      "Epoch number: 4341 and the loss : 39255.72265625\n",
      "Epoch number: 4351 and the loss : 41527.734375\n",
      "Epoch number: 4361 and the loss : 39616.6953125\n",
      "Epoch number: 4371 and the loss : 37490.44140625\n",
      "Epoch number: 4381 and the loss : 38860.3671875\n",
      "Epoch number: 4391 and the loss : 43065.7109375\n",
      "Epoch number: 4401 and the loss : 37248.99609375\n",
      "Epoch number: 4411 and the loss : 38373.8359375\n",
      "Epoch number: 4421 and the loss : 38899.4609375\n",
      "Epoch number: 4431 and the loss : 38223.69140625\n",
      "Epoch number: 4441 and the loss : 37498.6875\n",
      "Epoch number: 4451 and the loss : 37933.1875\n",
      "Epoch number: 4461 and the loss : 38450.87109375\n",
      "Epoch number: 4471 and the loss : 37873.19140625\n",
      "Epoch number: 4481 and the loss : 37709.6015625\n",
      "Epoch number: 4491 and the loss : 36543.640625\n",
      "Epoch number: 4501 and the loss : 40384.5546875\n",
      "Epoch number: 4511 and the loss : 37647.56640625\n",
      "Epoch number: 4521 and the loss : 36509.3984375\n",
      "Epoch number: 4531 and the loss : 38005.3671875\n",
      "Epoch number: 4541 and the loss : 35950.16796875\n",
      "Epoch number: 4551 and the loss : 35242.2578125\n",
      "Epoch number: 4561 and the loss : 35899.19921875\n",
      "Epoch number: 4571 and the loss : 39950.05078125\n",
      "Epoch number: 4581 and the loss : 35887.0546875\n",
      "Epoch number: 4591 and the loss : 34667.8984375\n",
      "Epoch number: 4601 and the loss : 37398.76953125\n",
      "Epoch number: 4611 and the loss : 35139.7109375\n",
      "Epoch number: 4621 and the loss : 36995.36328125\n",
      "Epoch number: 4631 and the loss : 35302.88671875\n",
      "Epoch number: 4641 and the loss : 35493.1484375\n",
      "Epoch number: 4651 and the loss : 35806.16015625\n",
      "Epoch number: 4661 and the loss : 35280.1328125\n",
      "Epoch number: 4671 and the loss : 36217.2265625\n",
      "Epoch number: 4681 and the loss : 36162.4375\n",
      "Epoch number: 4691 and the loss : 38207.39453125\n",
      "Epoch number: 4701 and the loss : 34241.9609375\n",
      "Epoch number: 4711 and the loss : 34412.8515625\n",
      "Epoch number: 4721 and the loss : 36344.07421875\n",
      "Epoch number: 4731 and the loss : 34022.640625\n",
      "Epoch number: 4741 and the loss : 33984.765625\n",
      "Epoch number: 4751 and the loss : 35926.14453125\n",
      "Epoch number: 4761 and the loss : 35028.8125\n",
      "Epoch number: 4771 and the loss : 34908.9375\n",
      "Epoch number: 4781 and the loss : 33999.53515625\n",
      "Epoch number: 4791 and the loss : 35804.01953125\n",
      "Epoch number: 4801 and the loss : 34695.11328125\n",
      "Epoch number: 4811 and the loss : 35452.4453125\n",
      "Epoch number: 4821 and the loss : 36862.9609375\n",
      "Epoch number: 4831 and the loss : 36421.62890625\n",
      "Epoch number: 4841 and the loss : 35358.77734375\n",
      "Epoch number: 4851 and the loss : 36346.96875\n",
      "Epoch number: 4861 and the loss : 36397.921875\n",
      "Epoch number: 4871 and the loss : 35421.23046875\n",
      "Epoch number: 4881 and the loss : 37609.515625\n",
      "Epoch number: 4891 and the loss : 34841.1953125\n",
      "Epoch number: 4901 and the loss : 36923.92578125\n",
      "Epoch number: 4911 and the loss : 34971.32421875\n",
      "Epoch number: 4921 and the loss : 34924.89453125\n",
      "Epoch number: 4931 and the loss : 36810.12109375\n",
      "Epoch number: 4941 and the loss : 36577.234375\n",
      "Epoch number: 4951 and the loss : 33447.2265625\n",
      "Epoch number: 4961 and the loss : 35238.53515625\n",
      "Epoch number: 4971 and the loss : 35693.67578125\n",
      "Epoch number: 4981 and the loss : 35377.3125\n",
      "Epoch number: 4991 and the loss : 33614.546875\n"
     ]
    }
   ],
   "source": [
    "\n",
    "epochs=5000\n",
    "final_losses=[]\n",
    "for i in range(epochs):\n",
    "    i=i+1\n",
    "    y_pred=model(train_categorical,train_cont)\n",
    "    loss=torch.sqrt(loss_function(y_pred,y_train)) ### RMSE\n",
    "    final_losses.append(loss)\n",
    "    if i%10==1:\n",
    "        print(\"Epoch number: {} and the loss : {}\".format(i,loss.item()))\n",
    "    optimizer.zero_grad()\n",
    "    loss.backward()\n",
    "    optimizer.step()"
   ]
  },
  {
   "cell_type": "code",
   "execution_count": 51,
   "metadata": {},
   "outputs": [
    {
     "ename": "RuntimeError",
     "evalue": "Can't call numpy() on Tensor that requires grad. Use tensor.detach().numpy() instead.",
     "output_type": "error",
     "traceback": [
      "\u001b[0;31m---------------------------------------------------------------------------\u001b[0m",
      "\u001b[0;31mRuntimeError\u001b[0m                              Traceback (most recent call last)",
      "\u001b[0;32m<ipython-input-51-aae220cecf16>\u001b[0m in \u001b[0;36m<module>\u001b[0;34m\u001b[0m\n\u001b[1;32m      1\u001b[0m \u001b[0;32mimport\u001b[0m \u001b[0mmatplotlib\u001b[0m\u001b[0;34m.\u001b[0m\u001b[0mpyplot\u001b[0m \u001b[0;32mas\u001b[0m \u001b[0mplt\u001b[0m\u001b[0;34m\u001b[0m\u001b[0;34m\u001b[0m\u001b[0m\n\u001b[1;32m      2\u001b[0m \u001b[0mget_ipython\u001b[0m\u001b[0;34m(\u001b[0m\u001b[0;34m)\u001b[0m\u001b[0;34m.\u001b[0m\u001b[0mrun_line_magic\u001b[0m\u001b[0;34m(\u001b[0m\u001b[0;34m'matplotlib'\u001b[0m\u001b[0;34m,\u001b[0m \u001b[0;34m'inline'\u001b[0m\u001b[0;34m)\u001b[0m\u001b[0;34m\u001b[0m\u001b[0;34m\u001b[0m\u001b[0m\n\u001b[0;32m----> 3\u001b[0;31m \u001b[0mplt\u001b[0m\u001b[0;34m.\u001b[0m\u001b[0mplot\u001b[0m\u001b[0;34m(\u001b[0m\u001b[0mrange\u001b[0m\u001b[0;34m(\u001b[0m\u001b[0mepochs\u001b[0m\u001b[0;34m)\u001b[0m\u001b[0;34m,\u001b[0m \u001b[0mfinal_losses\u001b[0m\u001b[0;34m)\u001b[0m\u001b[0;34m\u001b[0m\u001b[0;34m\u001b[0m\u001b[0m\n\u001b[0m\u001b[1;32m      4\u001b[0m \u001b[0mplt\u001b[0m\u001b[0;34m.\u001b[0m\u001b[0mylabel\u001b[0m\u001b[0;34m(\u001b[0m\u001b[0;34m'RMSE Loss'\u001b[0m\u001b[0;34m)\u001b[0m\u001b[0;34m\u001b[0m\u001b[0;34m\u001b[0m\u001b[0m\n\u001b[1;32m      5\u001b[0m \u001b[0mplt\u001b[0m\u001b[0;34m.\u001b[0m\u001b[0mxlabel\u001b[0m\u001b[0;34m(\u001b[0m\u001b[0;34m'epoch'\u001b[0m\u001b[0;34m)\u001b[0m\u001b[0;34m;\u001b[0m\u001b[0;34m\u001b[0m\u001b[0;34m\u001b[0m\u001b[0m\n",
      "\u001b[0;32m~/.local/lib/python3.8/site-packages/matplotlib/pyplot.py\u001b[0m in \u001b[0;36mplot\u001b[0;34m(scalex, scaley, data, *args, **kwargs)\u001b[0m\n\u001b[1;32m   3017\u001b[0m \u001b[0;34m@\u001b[0m\u001b[0m_copy_docstring_and_deprecators\u001b[0m\u001b[0;34m(\u001b[0m\u001b[0mAxes\u001b[0m\u001b[0;34m.\u001b[0m\u001b[0mplot\u001b[0m\u001b[0;34m)\u001b[0m\u001b[0;34m\u001b[0m\u001b[0;34m\u001b[0m\u001b[0m\n\u001b[1;32m   3018\u001b[0m \u001b[0;32mdef\u001b[0m \u001b[0mplot\u001b[0m\u001b[0;34m(\u001b[0m\u001b[0;34m*\u001b[0m\u001b[0margs\u001b[0m\u001b[0;34m,\u001b[0m \u001b[0mscalex\u001b[0m\u001b[0;34m=\u001b[0m\u001b[0;32mTrue\u001b[0m\u001b[0;34m,\u001b[0m \u001b[0mscaley\u001b[0m\u001b[0;34m=\u001b[0m\u001b[0;32mTrue\u001b[0m\u001b[0;34m,\u001b[0m \u001b[0mdata\u001b[0m\u001b[0;34m=\u001b[0m\u001b[0;32mNone\u001b[0m\u001b[0;34m,\u001b[0m \u001b[0;34m**\u001b[0m\u001b[0mkwargs\u001b[0m\u001b[0;34m)\u001b[0m\u001b[0;34m:\u001b[0m\u001b[0;34m\u001b[0m\u001b[0;34m\u001b[0m\u001b[0m\n\u001b[0;32m-> 3019\u001b[0;31m     return gca().plot(\n\u001b[0m\u001b[1;32m   3020\u001b[0m         \u001b[0;34m*\u001b[0m\u001b[0margs\u001b[0m\u001b[0;34m,\u001b[0m \u001b[0mscalex\u001b[0m\u001b[0;34m=\u001b[0m\u001b[0mscalex\u001b[0m\u001b[0;34m,\u001b[0m \u001b[0mscaley\u001b[0m\u001b[0;34m=\u001b[0m\u001b[0mscaley\u001b[0m\u001b[0;34m,\u001b[0m\u001b[0;34m\u001b[0m\u001b[0;34m\u001b[0m\u001b[0m\n\u001b[1;32m   3021\u001b[0m         **({\"data\": data} if data is not None else {}), **kwargs)\n",
      "\u001b[0;32m~/.local/lib/python3.8/site-packages/matplotlib/axes/_axes.py\u001b[0m in \u001b[0;36mplot\u001b[0;34m(self, scalex, scaley, data, *args, **kwargs)\u001b[0m\n\u001b[1;32m   1603\u001b[0m         \"\"\"\n\u001b[1;32m   1604\u001b[0m         \u001b[0mkwargs\u001b[0m \u001b[0;34m=\u001b[0m \u001b[0mcbook\u001b[0m\u001b[0;34m.\u001b[0m\u001b[0mnormalize_kwargs\u001b[0m\u001b[0;34m(\u001b[0m\u001b[0mkwargs\u001b[0m\u001b[0;34m,\u001b[0m \u001b[0mmlines\u001b[0m\u001b[0;34m.\u001b[0m\u001b[0mLine2D\u001b[0m\u001b[0;34m)\u001b[0m\u001b[0;34m\u001b[0m\u001b[0;34m\u001b[0m\u001b[0m\n\u001b[0;32m-> 1605\u001b[0;31m         \u001b[0mlines\u001b[0m \u001b[0;34m=\u001b[0m \u001b[0;34m[\u001b[0m\u001b[0;34m*\u001b[0m\u001b[0mself\u001b[0m\u001b[0;34m.\u001b[0m\u001b[0m_get_lines\u001b[0m\u001b[0;34m(\u001b[0m\u001b[0;34m*\u001b[0m\u001b[0margs\u001b[0m\u001b[0;34m,\u001b[0m \u001b[0mdata\u001b[0m\u001b[0;34m=\u001b[0m\u001b[0mdata\u001b[0m\u001b[0;34m,\u001b[0m \u001b[0;34m**\u001b[0m\u001b[0mkwargs\u001b[0m\u001b[0;34m)\u001b[0m\u001b[0;34m]\u001b[0m\u001b[0;34m\u001b[0m\u001b[0;34m\u001b[0m\u001b[0m\n\u001b[0m\u001b[1;32m   1606\u001b[0m         \u001b[0;32mfor\u001b[0m \u001b[0mline\u001b[0m \u001b[0;32min\u001b[0m \u001b[0mlines\u001b[0m\u001b[0;34m:\u001b[0m\u001b[0;34m\u001b[0m\u001b[0;34m\u001b[0m\u001b[0m\n\u001b[1;32m   1607\u001b[0m             \u001b[0mself\u001b[0m\u001b[0;34m.\u001b[0m\u001b[0madd_line\u001b[0m\u001b[0;34m(\u001b[0m\u001b[0mline\u001b[0m\u001b[0;34m)\u001b[0m\u001b[0;34m\u001b[0m\u001b[0;34m\u001b[0m\u001b[0m\n",
      "\u001b[0;32m~/.local/lib/python3.8/site-packages/matplotlib/axes/_base.py\u001b[0m in \u001b[0;36m__call__\u001b[0;34m(self, data, *args, **kwargs)\u001b[0m\n\u001b[1;32m    313\u001b[0m                 \u001b[0mthis\u001b[0m \u001b[0;34m+=\u001b[0m \u001b[0margs\u001b[0m\u001b[0;34m[\u001b[0m\u001b[0;36m0\u001b[0m\u001b[0;34m]\u001b[0m\u001b[0;34m,\u001b[0m\u001b[0;34m\u001b[0m\u001b[0;34m\u001b[0m\u001b[0m\n\u001b[1;32m    314\u001b[0m                 \u001b[0margs\u001b[0m \u001b[0;34m=\u001b[0m \u001b[0margs\u001b[0m\u001b[0;34m[\u001b[0m\u001b[0;36m1\u001b[0m\u001b[0;34m:\u001b[0m\u001b[0;34m]\u001b[0m\u001b[0;34m\u001b[0m\u001b[0;34m\u001b[0m\u001b[0m\n\u001b[0;32m--> 315\u001b[0;31m             \u001b[0;32myield\u001b[0m \u001b[0;32mfrom\u001b[0m \u001b[0mself\u001b[0m\u001b[0;34m.\u001b[0m\u001b[0m_plot_args\u001b[0m\u001b[0;34m(\u001b[0m\u001b[0mthis\u001b[0m\u001b[0;34m,\u001b[0m \u001b[0mkwargs\u001b[0m\u001b[0;34m)\u001b[0m\u001b[0;34m\u001b[0m\u001b[0;34m\u001b[0m\u001b[0m\n\u001b[0m\u001b[1;32m    316\u001b[0m \u001b[0;34m\u001b[0m\u001b[0m\n\u001b[1;32m    317\u001b[0m     \u001b[0;32mdef\u001b[0m \u001b[0mget_next_color\u001b[0m\u001b[0;34m(\u001b[0m\u001b[0mself\u001b[0m\u001b[0;34m)\u001b[0m\u001b[0;34m:\u001b[0m\u001b[0;34m\u001b[0m\u001b[0;34m\u001b[0m\u001b[0m\n",
      "\u001b[0;32m~/.local/lib/python3.8/site-packages/matplotlib/axes/_base.py\u001b[0m in \u001b[0;36m_plot_args\u001b[0;34m(self, tup, kwargs, return_kwargs)\u001b[0m\n\u001b[1;32m    489\u001b[0m         \u001b[0;32mif\u001b[0m \u001b[0mlen\u001b[0m\u001b[0;34m(\u001b[0m\u001b[0mxy\u001b[0m\u001b[0;34m)\u001b[0m \u001b[0;34m==\u001b[0m \u001b[0;36m2\u001b[0m\u001b[0;34m:\u001b[0m\u001b[0;34m\u001b[0m\u001b[0;34m\u001b[0m\u001b[0m\n\u001b[1;32m    490\u001b[0m             \u001b[0mx\u001b[0m \u001b[0;34m=\u001b[0m \u001b[0m_check_1d\u001b[0m\u001b[0;34m(\u001b[0m\u001b[0mxy\u001b[0m\u001b[0;34m[\u001b[0m\u001b[0;36m0\u001b[0m\u001b[0;34m]\u001b[0m\u001b[0;34m)\u001b[0m\u001b[0;34m\u001b[0m\u001b[0;34m\u001b[0m\u001b[0m\n\u001b[0;32m--> 491\u001b[0;31m             \u001b[0my\u001b[0m \u001b[0;34m=\u001b[0m \u001b[0m_check_1d\u001b[0m\u001b[0;34m(\u001b[0m\u001b[0mxy\u001b[0m\u001b[0;34m[\u001b[0m\u001b[0;36m1\u001b[0m\u001b[0;34m]\u001b[0m\u001b[0;34m)\u001b[0m\u001b[0;34m\u001b[0m\u001b[0;34m\u001b[0m\u001b[0m\n\u001b[0m\u001b[1;32m    492\u001b[0m         \u001b[0;32melse\u001b[0m\u001b[0;34m:\u001b[0m\u001b[0;34m\u001b[0m\u001b[0;34m\u001b[0m\u001b[0m\n\u001b[1;32m    493\u001b[0m             \u001b[0mx\u001b[0m\u001b[0;34m,\u001b[0m \u001b[0my\u001b[0m \u001b[0;34m=\u001b[0m \u001b[0mindex_of\u001b[0m\u001b[0;34m(\u001b[0m\u001b[0mxy\u001b[0m\u001b[0;34m[\u001b[0m\u001b[0;34m-\u001b[0m\u001b[0;36m1\u001b[0m\u001b[0;34m]\u001b[0m\u001b[0;34m)\u001b[0m\u001b[0;34m\u001b[0m\u001b[0;34m\u001b[0m\u001b[0m\n",
      "\u001b[0;32m~/.local/lib/python3.8/site-packages/matplotlib/cbook/__init__.py\u001b[0m in \u001b[0;36m_check_1d\u001b[0;34m(x)\u001b[0m\n\u001b[1;32m   1337\u001b[0m     \u001b[0;34m\"\"\"Convert scalars to 1D arrays; pass-through arrays as is.\"\"\"\u001b[0m\u001b[0;34m\u001b[0m\u001b[0;34m\u001b[0m\u001b[0m\n\u001b[1;32m   1338\u001b[0m     \u001b[0;32mif\u001b[0m \u001b[0;32mnot\u001b[0m \u001b[0mhasattr\u001b[0m\u001b[0;34m(\u001b[0m\u001b[0mx\u001b[0m\u001b[0;34m,\u001b[0m \u001b[0;34m'shape'\u001b[0m\u001b[0;34m)\u001b[0m \u001b[0;32mor\u001b[0m \u001b[0mlen\u001b[0m\u001b[0;34m(\u001b[0m\u001b[0mx\u001b[0m\u001b[0;34m.\u001b[0m\u001b[0mshape\u001b[0m\u001b[0;34m)\u001b[0m \u001b[0;34m<\u001b[0m \u001b[0;36m1\u001b[0m\u001b[0;34m:\u001b[0m\u001b[0;34m\u001b[0m\u001b[0;34m\u001b[0m\u001b[0m\n\u001b[0;32m-> 1339\u001b[0;31m         \u001b[0;32mreturn\u001b[0m \u001b[0mnp\u001b[0m\u001b[0;34m.\u001b[0m\u001b[0matleast_1d\u001b[0m\u001b[0;34m(\u001b[0m\u001b[0mx\u001b[0m\u001b[0;34m)\u001b[0m\u001b[0;34m\u001b[0m\u001b[0;34m\u001b[0m\u001b[0m\n\u001b[0m\u001b[1;32m   1340\u001b[0m     \u001b[0;32melse\u001b[0m\u001b[0;34m:\u001b[0m\u001b[0;34m\u001b[0m\u001b[0;34m\u001b[0m\u001b[0m\n\u001b[1;32m   1341\u001b[0m         \u001b[0;32mtry\u001b[0m\u001b[0;34m:\u001b[0m\u001b[0;34m\u001b[0m\u001b[0;34m\u001b[0m\u001b[0m\n",
      "\u001b[0;32m<__array_function__ internals>\u001b[0m in \u001b[0;36matleast_1d\u001b[0;34m(*args, **kwargs)\u001b[0m\n",
      "\u001b[0;32m~/.local/lib/python3.8/site-packages/numpy/core/shape_base.py\u001b[0m in \u001b[0;36matleast_1d\u001b[0;34m(*arys)\u001b[0m\n\u001b[1;32m     63\u001b[0m     \u001b[0mres\u001b[0m \u001b[0;34m=\u001b[0m \u001b[0;34m[\u001b[0m\u001b[0;34m]\u001b[0m\u001b[0;34m\u001b[0m\u001b[0;34m\u001b[0m\u001b[0m\n\u001b[1;32m     64\u001b[0m     \u001b[0;32mfor\u001b[0m \u001b[0mary\u001b[0m \u001b[0;32min\u001b[0m \u001b[0marys\u001b[0m\u001b[0;34m:\u001b[0m\u001b[0;34m\u001b[0m\u001b[0;34m\u001b[0m\u001b[0m\n\u001b[0;32m---> 65\u001b[0;31m         \u001b[0mary\u001b[0m \u001b[0;34m=\u001b[0m \u001b[0masanyarray\u001b[0m\u001b[0;34m(\u001b[0m\u001b[0mary\u001b[0m\u001b[0;34m)\u001b[0m\u001b[0;34m\u001b[0m\u001b[0;34m\u001b[0m\u001b[0m\n\u001b[0m\u001b[1;32m     66\u001b[0m         \u001b[0;32mif\u001b[0m \u001b[0mary\u001b[0m\u001b[0;34m.\u001b[0m\u001b[0mndim\u001b[0m \u001b[0;34m==\u001b[0m \u001b[0;36m0\u001b[0m\u001b[0;34m:\u001b[0m\u001b[0;34m\u001b[0m\u001b[0;34m\u001b[0m\u001b[0m\n\u001b[1;32m     67\u001b[0m             \u001b[0mresult\u001b[0m \u001b[0;34m=\u001b[0m \u001b[0mary\u001b[0m\u001b[0;34m.\u001b[0m\u001b[0mreshape\u001b[0m\u001b[0;34m(\u001b[0m\u001b[0;36m1\u001b[0m\u001b[0;34m)\u001b[0m\u001b[0;34m\u001b[0m\u001b[0;34m\u001b[0m\u001b[0m\n",
      "\u001b[0;32m~/.local/lib/python3.8/site-packages/torch/_tensor.py\u001b[0m in \u001b[0;36m__array__\u001b[0;34m(self, dtype)\u001b[0m\n\u001b[1;32m    730\u001b[0m             \u001b[0;32mreturn\u001b[0m \u001b[0mhandle_torch_function\u001b[0m\u001b[0;34m(\u001b[0m\u001b[0mTensor\u001b[0m\u001b[0;34m.\u001b[0m\u001b[0m__array__\u001b[0m\u001b[0;34m,\u001b[0m \u001b[0;34m(\u001b[0m\u001b[0mself\u001b[0m\u001b[0;34m,\u001b[0m\u001b[0;34m)\u001b[0m\u001b[0;34m,\u001b[0m \u001b[0mself\u001b[0m\u001b[0;34m,\u001b[0m \u001b[0mdtype\u001b[0m\u001b[0;34m=\u001b[0m\u001b[0mdtype\u001b[0m\u001b[0;34m)\u001b[0m\u001b[0;34m\u001b[0m\u001b[0;34m\u001b[0m\u001b[0m\n\u001b[1;32m    731\u001b[0m         \u001b[0;32mif\u001b[0m \u001b[0mdtype\u001b[0m \u001b[0;32mis\u001b[0m \u001b[0;32mNone\u001b[0m\u001b[0;34m:\u001b[0m\u001b[0;34m\u001b[0m\u001b[0;34m\u001b[0m\u001b[0m\n\u001b[0;32m--> 732\u001b[0;31m             \u001b[0;32mreturn\u001b[0m \u001b[0mself\u001b[0m\u001b[0;34m.\u001b[0m\u001b[0mnumpy\u001b[0m\u001b[0;34m(\u001b[0m\u001b[0;34m)\u001b[0m\u001b[0;34m\u001b[0m\u001b[0;34m\u001b[0m\u001b[0m\n\u001b[0m\u001b[1;32m    733\u001b[0m         \u001b[0;32melse\u001b[0m\u001b[0;34m:\u001b[0m\u001b[0;34m\u001b[0m\u001b[0;34m\u001b[0m\u001b[0m\n\u001b[1;32m    734\u001b[0m             \u001b[0;32mreturn\u001b[0m \u001b[0mself\u001b[0m\u001b[0;34m.\u001b[0m\u001b[0mnumpy\u001b[0m\u001b[0;34m(\u001b[0m\u001b[0;34m)\u001b[0m\u001b[0;34m.\u001b[0m\u001b[0mastype\u001b[0m\u001b[0;34m(\u001b[0m\u001b[0mdtype\u001b[0m\u001b[0;34m,\u001b[0m \u001b[0mcopy\u001b[0m\u001b[0;34m=\u001b[0m\u001b[0;32mFalse\u001b[0m\u001b[0;34m)\u001b[0m\u001b[0;34m\u001b[0m\u001b[0;34m\u001b[0m\u001b[0m\n",
      "\u001b[0;31mRuntimeError\u001b[0m: Can't call numpy() on Tensor that requires grad. Use tensor.detach().numpy() instead."
     ]
    },
    {
     "data": {
      "image/png": "[encoded data removed]",
      "text/plain": [
       "<Figure size 432x288 with 1 Axes>"
      ]
     },
     "metadata": {
      "needs_background": "light"
     },
     "output_type": "display_data"
    }
   ],
   "source": [
    "import matplotlib.pyplot as plt\n",
    "%matplotlib inline\n",
    "plt.plot(range(epochs), final_losses)\n",
    "plt.ylabel('RMSE Loss')\n",
    "plt.xlabel('epoch');"
   ]
  },
  {
   "cell_type": "code",
   "execution_count": null,
   "metadata": {},
   "outputs": [],
   "source": [
    "#### Validate the Test Data\n",
    "y_pred=\"\"\n",
    "with torch.no_grad():\n",
    "    y_pred=model(test_categorical,test_cont)\n",
    "    loss=torch.sqrt(loss_function(y_pred,y_test))\n",
    "print('RMSE: {}'.format(loss))"
   ]
  },
  {
   "cell_type": "code",
   "execution_count": null,
   "metadata": {},
   "outputs": [],
   "source": [
    "data_verify=pd.DataFrame(y_test.tolist(),columns=[\"Test\"])"
   ]
  },
  {
   "cell_type": "code",
   "execution_count": null,
   "metadata": {},
   "outputs": [],
   "source": [
    "data_predicted=pd.DataFrame(y_pred.tolist(),columns=[\"Prediction\"])"
   ]
  },
  {
   "cell_type": "code",
   "execution_count": null,
   "metadata": {},
   "outputs": [],
   "source": [
    "data_predicted"
   ]
  },
  {
   "cell_type": "code",
   "execution_count": null,
   "metadata": {},
   "outputs": [],
   "source": [
    "final_output=pd.concat([data_verify,data_predicted],axis=1)\n",
    "final_output['Difference']=final_output['Test']-final_output['Prediction']\n",
    "final_output.head()"
   ]
  },
  {
   "cell_type": "code",
   "execution_count": null,
   "metadata": {},
   "outputs": [],
   "source": [
    "#### Saving The Model\n",
    "#### Save the model\n",
    "torch.save(model,'HousePrice.pt')"
   ]
  },
  {
   "cell_type": "code",
   "execution_count": null,
   "metadata": {},
   "outputs": [],
   "source": [
    "torch.save(model.state_dict(),'HouseWeights.pt')"
   ]
  },
  {
   "cell_type": "code",
   "execution_count": null,
   "metadata": {},
   "outputs": [],
   "source": [
    "### Loading the saved Model\n",
    "embs_size=[(15, 8), (5, 3), (2, 1), (4, 2)]\n",
    "model1=FeedForwardNN(embs_size,5,1,[100,50],p=0.4)"
   ]
  },
  {
   "cell_type": "code",
   "execution_count": null,
   "metadata": {},
   "outputs": [],
   "source": [
    "model1.load_state_dict(torch.load('HouseWeights.pt'))"
   ]
  },
  {
   "cell_type": "code",
   "execution_count": null,
   "metadata": {},
   "outputs": [],
   "source": [
    "model1.eval()"
   ]
  },
  {
   "cell_type": "code",
   "execution_count": null,
   "metadata": {},
   "outputs": [],
   "source": []
  },
  {
   "cell_type": "code",
   "execution_count": null,
   "metadata": {},
   "outputs": [],
   "source": []
  }
 ],
 "metadata": {
  "kernelspec": {
   "display_name": "Python 3",
   "language": "python",
   "name": "python3"
  },
  "language_info": {
   "codemirror_mode": {
    "name": "ipython",
    "version": 3
   },
   "file_extension": ".py",
   "mimetype": "text/x-python",
   "name": "python",
   "nbconvert_exporter": "python",
   "pygments_lexer": "ipython3",
   "version": "3.8.10"
  }
 },
 "nbformat": 4,
 "nbformat_minor": 4
}
